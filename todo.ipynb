{
 "cells": [
  {
   "cell_type": "markdown",
   "metadata": {},
   "source": [
    "# Goal \n",
    "1. Create a web application to show the progress of the student to know his current position and how to improve it, break the whole process into steps \n",
    "--- \n",
    "1. show progress bar for every subject \n",
    "   1. lessons\n",
    "   2. number of pages\n",
    "   3. Time for comming exams\n",
    "   4. estimed time to finish this \n",
    "### Future \n",
    "1. Collect all English keyword for every subject and make it as dict\n",
    "2. Collect all Math rules and make them as a nice collection \n",
    "3. Make it a general website for kids and students for all the subject "
   ]
  },
  {
   "cell_type": "markdown",
   "metadata": {},
   "source": [
    "## Database Design \n",
    "1. Creation of the database \n",
    "2. Adding ,updating and Returning of the data \n",
    "3. Visualizing the data "
   ]
  },
  {
   "cell_type": "code",
   "execution_count": null,
   "metadata": {},
   "outputs": [],
   "source": []
  },
  {
   "cell_type": "code",
   "execution_count": null,
   "metadata": {},
   "outputs": [],
   "source": []
  },
  {
   "cell_type": "code",
   "execution_count": null,
   "metadata": {},
   "outputs": [],
   "source": []
  },
  {
   "cell_type": "code",
   "execution_count": null,
   "metadata": {},
   "outputs": [],
   "source": []
  }
 ],
 "metadata": {
  "language_info": {
   "name": "python"
  }
 },
 "nbformat": 4,
 "nbformat_minor": 2
}
