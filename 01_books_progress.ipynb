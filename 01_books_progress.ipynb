{
 "cells": [
  {
   "cell_type": "markdown",
   "metadata": {},
   "source": [
    "\n",
    "1. Make it a reading database for your books and show the reading progress for every one or a web application with fastapi or as a CLI \n",
    "\n",
    "\n",
    "2. auto calculate for the pages 30 -10 =20 and store them for future visualizaiton "
   ]
  },
  {
   "cell_type": "code",
   "execution_count": 1,
   "metadata": {},
   "outputs": [],
   "source": [
    "total_pages = 236\n",
    "number_of_units = 3\n",
    "number_of_lessons = 3\n"
   ]
  },
  {
   "cell_type": "code",
   "execution_count": 2,
   "metadata": {},
   "outputs": [],
   "source": [
    "class Book:\n",
    "    def __init__(self, total_pages, units, lessons):\n",
    "        self.total_pages = total_pages\n",
    "        self.units = units\n",
    "        self.lessons = lessons\n",
    "        self.book_info = {}\n",
    "\n",
    "    def collect_info(self):\n",
    "        for i in range(self.lessons):\n",
    "            title = str(input(\"Enter the Title of the page\"))\n",
    "            lesson_page_start = int(input(\"Enter the number of page starting\"))\n",
    "            self.book_info[title] = (i + 1, lesson_page_start)\n",
    "    def get_info(self):\n",
    "        for title,(order,pages_num) in self.book_info.items():\n",
    "            print(title)\n",
    "            print(order)\n",
    "            print(pages_num)\n",
    "    def __str__(self):\n",
    "        return f\"The Total number of pages i{self.total_pages}\\n the total number of units is {self.units},and the number of lessons is {self.lessons}\"\n",
    "\n",
    "    def __repr__(self) -> str:\n",
    "        return f\" The Total number of pages is {self.total_pages}\\n The total number of units is {self.units}\\n The number of lessons is {self.lessons}\\n\""
   ]
  },
  {
   "cell_type": "code",
   "execution_count": 3,
   "metadata": {},
   "outputs": [
    {
     "data": {
      "text/plain": [
       " The Total number of pages is 236\n",
       " The total number of units is 3\n",
       " The number of lessons is 3"
      ]
     },
     "execution_count": 3,
     "metadata": {},
     "output_type": "execute_result"
    }
   ],
   "source": [
    "book1 = Book(total_pages,number_of_units,number_of_lessons)\n",
    "book1"
   ]
  },
  {
   "cell_type": "code",
   "execution_count": 15,
   "metadata": {},
   "outputs": [],
   "source": [
    "cursor.execute(\"SELECT * FROM Books\")\n",
    "books_data = cursor.fetchall()"
   ]
  },
  {
   "cell_type": "code",
   "execution_count": 16,
   "metadata": {},
   "outputs": [
    {
     "name": "stdout",
     "output_type": "stream",
     "text": [
      "(1, 'Python Programming', 10, 5, 300)\n"
     ]
    }
   ],
   "source": [
    "for book in books_data:\n",
    "    print(book)"
   ]
  },
  {
   "cell_type": "code",
   "execution_count": 13,
   "metadata": {},
   "outputs": [
    {
     "name": "stdout",
     "output_type": "stream",
     "text": [
      "Book information inserted successfully.\n"
     ]
    }
   ],
   "source": [
    "import sqlite3\n",
    "\n",
    "\n",
    "def insert_book(title, lessons, units, total_pages):\n",
    "    # Connect to the database\n",
    "    conn = sqlite3.connect(\"books_database.db\")\n",
    "    cursor = conn.cursor()\n",
    "\n",
    "    # Insert data into the Books table\n",
    "    cursor.execute(\n",
    "        \"\"\"\n",
    "        INSERT INTO Books (Title, Lessons, Units, Total_Pages)\n",
    "        VALUES (?, ?, ?, ?)\n",
    "    \"\"\",\n",
    "        (title, lessons, units, total_pages),\n",
    "    )\n",
    "\n",
    "    # Commit the changes\n",
    "    conn.commit()\n",
    "\n",
    "    # Close the connection\n",
    "    conn.close()\n",
    "\n",
    "    print(\"Book information inserted successfully.\")\n",
    "\n",
    "\n",
    "# Example usage:\n",
    "insert_book(\"Python Programming\", 10, 5, 300)"
   ]
  },
  {
   "cell_type": "code",
   "execution_count": 17,
   "metadata": {},
   "outputs": [
    {
     "name": "stdout",
     "output_type": "stream",
     "text": [
      "Lessons information inserted successfully.\n"
     ]
    }
   ],
   "source": [
    "import sqlite3\n",
    "\n",
    "\n",
    "def insert_lessons(book_title, lessons_data):\n",
    "    # Connect to the database\n",
    "    conn = sqlite3.connect(\"books_database.db\")\n",
    "    cursor = conn.cursor()\n",
    "\n",
    "    # Retrieve the Book ID based on the title\n",
    "    cursor.execute(\"SELECT ID FROM Books WHERE Title = ?\", (book_title,))\n",
    "    book_id = cursor.fetchone()\n",
    "\n",
    "    if book_id:\n",
    "        book_id = book_id[0]  # Extracting the ID from the tuple\n",
    "\n",
    "        # Insert each lesson into the Lessons table\n",
    "        for lesson in lessons_data:\n",
    "            lesson_title, lesson_start_page, lesson_state = lesson\n",
    "            cursor.execute(\n",
    "                \"\"\"\n",
    "                INSERT INTO Lessons (Book_ID, Lesson_Title, Lesson_Start_Page, Lesson_State)\n",
    "                VALUES (?, ?, ?, ?)\n",
    "            \"\"\",\n",
    "                (book_id, lesson_title, lesson_start_page, lesson_state),\n",
    "            )\n",
    "\n",
    "        # Commit the changes\n",
    "        conn.commit()\n",
    "        print(\"Lessons information inserted successfully.\")\n",
    "    else:\n",
    "        print(\"Book not found in the database.\")\n",
    "\n",
    "    # Close the connection\n",
    "    conn.close()\n",
    "\n",
    "\n",
    "# Example usage:\n",
    "book_title = \"Python Programming\"\n",
    "lessons_data = [\n",
    "    (\"Introduction to Python\", 1, \"done\"),\n",
    "    (\"Data Structures\", 20, \"still\"),\n",
    "    (\"Advanced Topics\", 50, \"still\"),\n",
    "]\n",
    "\n",
    "insert_lessons(book_title, lessons_data)"
   ]
  },
  {
   "cell_type": "code",
   "execution_count": null,
   "metadata": {},
   "outputs": [],
   "source": [
    "cursor.execute(\"SELECT * FROM Lessons\")\n",
    "lessons_data = cursor.fetchall()\n",
    "print(\"\\nLessons data:\")\n",
    "for lesson in lessons_data:\n",
    "    print(lesson)"
   ]
  }
 ],
 "metadata": {
  "kernelspec": {
   "display_name": "base",
   "language": "python",
   "name": "python3"
  },
  "language_info": {
   "codemirror_mode": {
    "name": "ipython",
    "version": 3
   },
   "file_extension": ".py",
   "mimetype": "text/x-python",
   "name": "python",
   "nbconvert_exporter": "python",
   "pygments_lexer": "ipython3",
   "version": "3.10.13"
  }
 },
 "nbformat": 4,
 "nbformat_minor": 2
}
